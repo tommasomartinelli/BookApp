{
 "cells": [
  {
   "cell_type": "code",
   "execution_count": 27,
   "metadata": {},
   "outputs": [],
   "source": [
    "import pandas as pd\n",
    "import numpy as np\n",
    "import matplotlib.pyplot as plt"
   ]
  },
  {
   "cell_type": "code",
   "execution_count": 28,
   "metadata": {},
   "outputs": [],
   "source": [
    "data_reviews = pd.read_csv('data/Books_rating.csv')"
   ]
  },
  {
   "cell_type": "code",
   "execution_count": 29,
   "metadata": {},
   "outputs": [],
   "source": [
    "data_books = pd.read_csv('data/books_data.csv')"
   ]
  },
  {
   "cell_type": "code",
   "execution_count": 30,
   "metadata": {},
   "outputs": [
    {
     "name": "stdout",
     "output_type": "stream",
     "text": [
      "First dataset (data_rating) nan values:  Id                          0\n",
      "Title                     208\n",
      "Price                 2518829\n",
      "User_id                561787\n",
      "profileName            561905\n",
      "review/helpfulness          0\n",
      "review/score                0\n",
      "review/time                 0\n",
      "review/summary            407\n",
      "review/text                 8\n",
      "dtype: int64\n",
      "Second dataset (data) nan values:  Title                 1\n",
      "description       68442\n",
      "authors           31413\n",
      "image             52075\n",
      "previewLink       23836\n",
      "publisher         75886\n",
      "publishedDate     25305\n",
      "infoLink          23836\n",
      "categories        41199\n",
      "ratingsCount     162652\n",
      "dtype: int64\n"
     ]
    }
   ],
   "source": [
    "print(\"First dataset (data_rating) nan values: \", data_reviews.isnull().sum())\n",
    "print(\"Second dataset (data) nan values: \", data_books.isnull().sum())"
   ]
  },
  {
   "cell_type": "code",
   "execution_count": 31,
   "metadata": {},
   "outputs": [],
   "source": [
    "data_reviews = data_reviews.dropna(subset=['Title', 'User_id'])\n",
    "data_books = data_books.dropna(subset=['Title'])"
   ]
  },
  {
   "cell_type": "code",
   "execution_count": 32,
   "metadata": {},
   "outputs": [],
   "source": [
    "# Unisco i due dataset\n",
    "data_books['Title'] = data_books['Title'].str.lower()\n",
    "data_reviews['Title'] = data_reviews['Title'].str.lower()\n",
    "\n",
    "merged_data = pd.merge(data_reviews, data_books, on='Title', how='left')\n",
    "merged_data['Unified_Id'] = merged_data.groupby('Title').ngroup() + 1"
   ]
  },
  {
   "cell_type": "code",
   "execution_count": 33,
   "metadata": {},
   "outputs": [
    {
     "name": "stdout",
     "output_type": "stream",
     "text": [
      "           Id                           Title  Price         User_id  \\\n",
      "0  1882931173  its only art if its well hung!    NaN   AVCGYZL8FQQTD   \n",
      "1  0826414346        dr. seuss: american icon    NaN  A30TK6U7DNS82R   \n",
      "2  0826414346        dr. seuss: american icon    NaN  A3UH4UZ4RSVO82   \n",
      "3  0826414346        dr. seuss: american icon    NaN  A2MVUWT453QH61   \n",
      "4  0826414346        dr. seuss: american icon    NaN  A22X4XUPKF66MR   \n",
      "\n",
      "                          profileName review/helpfulness  review/score  \\\n",
      "0               Jim of Oz \"jim-of-oz\"                7/7           4.0   \n",
      "1                       Kevin Killian              10/10           5.0   \n",
      "2                        John Granger              10/11           5.0   \n",
      "3  Roy E. Perry \"amateur philosopher\"                7/7           4.0   \n",
      "4     D. H. Richards \"ninthwavestore\"                3/3           4.0   \n",
      "\n",
      "   review/time                                   review/summary  \\\n",
      "0    940636800           Nice collection of Julie Strain images   \n",
      "1   1095724800                                Really Enjoyed It   \n",
      "2   1078790400  Essential for every personal and Public Library   \n",
      "3   1090713600  Phlip Nel gives silly Seuss a serious treatment   \n",
      "4   1107993600                           Good academic overview   \n",
      "\n",
      "                                         review/text  \\\n",
      "0  This is only for Julie Strain fans. It's a col...   \n",
      "1  I don't care much for Dr. Seuss but after read...   \n",
      "2  If people become the books they read and if \"t...   \n",
      "3  Theodore Seuss Geisel (1904-1991), aka &quot;D...   \n",
      "4  Philip Nel - Dr. Seuss: American IconThis is b...   \n",
      "\n",
      "                                         description           authors  \\\n",
      "0                                                NaN  ['Julie Strain']   \n",
      "1  Philip Nel takes a fascinating look into the k...    ['Philip Nel']   \n",
      "2  Philip Nel takes a fascinating look into the k...    ['Philip Nel']   \n",
      "3  Philip Nel takes a fascinating look into the k...    ['Philip Nel']   \n",
      "4  Philip Nel takes a fascinating look into the k...    ['Philip Nel']   \n",
      "\n",
      "                                               image  \\\n",
      "0  http://books.google.com/books/content?id=DykPA...   \n",
      "1  http://books.google.com/books/content?id=IjvHQ...   \n",
      "2  http://books.google.com/books/content?id=IjvHQ...   \n",
      "3  http://books.google.com/books/content?id=IjvHQ...   \n",
      "4  http://books.google.com/books/content?id=IjvHQ...   \n",
      "\n",
      "                                         previewLink  publisher publishedDate  \\\n",
      "0  http://books.google.nl/books?id=DykPAAAACAAJ&d...        NaN          1996   \n",
      "1  http://books.google.nl/books?id=IjvHQsCn_pgC&p...  A&C Black    2005-01-01   \n",
      "2  http://books.google.nl/books?id=IjvHQsCn_pgC&p...  A&C Black    2005-01-01   \n",
      "3  http://books.google.nl/books?id=IjvHQsCn_pgC&p...  A&C Black    2005-01-01   \n",
      "4  http://books.google.nl/books?id=IjvHQsCn_pgC&p...  A&C Black    2005-01-01   \n",
      "\n",
      "                                            infoLink  \\\n",
      "0  http://books.google.nl/books?id=DykPAAAACAAJ&d...   \n",
      "1  http://books.google.nl/books?id=IjvHQsCn_pgC&d...   \n",
      "2  http://books.google.nl/books?id=IjvHQsCn_pgC&d...   \n",
      "3  http://books.google.nl/books?id=IjvHQsCn_pgC&d...   \n",
      "4  http://books.google.nl/books?id=IjvHQsCn_pgC&d...   \n",
      "\n",
      "                      categories  ratingsCount  Unified_Id  \n",
      "0    ['Comics & Graphic Novels']           NaN       80564  \n",
      "1  ['Biography & Autobiography']           NaN       46106  \n",
      "2  ['Biography & Autobiography']           NaN       46106  \n",
      "3  ['Biography & Autobiography']           NaN       46106  \n",
      "4  ['Biography & Autobiography']           NaN       46106  \n"
     ]
    }
   ],
   "source": [
    "print(merged_data.head())"
   ]
  },
  {
   "cell_type": "code",
   "execution_count": 34,
   "metadata": {},
   "outputs": [
    {
     "name": "stdout",
     "output_type": "stream",
     "text": [
      "Unified_Id nan values:  0\n"
     ]
    }
   ],
   "source": [
    "# controllo se ci sono Nan in unified_id\n",
    "print(\"Unified_Id nan values: \", merged_data['Unified_Id'].isnull().sum())"
   ]
  },
  {
   "cell_type": "code",
   "execution_count": 35,
   "metadata": {},
   "outputs": [
    {
     "name": "stdout",
     "output_type": "stream",
     "text": [
      "merged_data shape:  (2687063, 20)\n"
     ]
    }
   ],
   "source": [
    "print(\"merged_data shape: \", merged_data.shape)"
   ]
  },
  {
   "cell_type": "code",
   "execution_count": 39,
   "metadata": {},
   "outputs": [
    {
     "name": "stdout",
     "output_type": "stream",
     "text": [
      "Data shape after filtering: (428913, 20)\n",
      "Number of unique books (Unified_Id) after filtering: 3602\n",
      "Number of unique users (User_id) after filtering: 9962\n",
      "Min reviews per book:  20\n",
      "Min reviews per user:  20\n"
     ]
    }
   ],
   "source": [
    "min_reviews_book = 20\n",
    "min_reviews_user = 20\n",
    "\n",
    "while True:\n",
    "    # Filtra per libri con almeno 20 recensioni\n",
    "    book_review_counts = filtered_data['Unified_Id'].value_counts()\n",
    "    selected_books = book_review_counts[book_review_counts >= min_reviews_book].index\n",
    "    filtered_data = filtered_data[filtered_data['Unified_Id'].isin(selected_books)]\n",
    "    \n",
    "    # Filtra per utenti con almeno 10 recensioni\n",
    "    user_review_counts = filtered_data['User_id'].value_counts()\n",
    "    selected_users = user_review_counts[user_review_counts >= min_reviews_user].index\n",
    "    filtered_data = filtered_data[filtered_data['User_id'].isin(selected_users)]\n",
    "    \n",
    "    # Controlla se i criteri sono soddisfatti\n",
    "    if (\n",
    "        filtered_data['Unified_Id'].value_counts().min() >= min_reviews_book and\n",
    "        filtered_data['User_id'].value_counts().min() >= min_reviews_user\n",
    "    ):\n",
    "        break\n",
    "\n",
    "# Controllo finale dei criteri\n",
    "print(\"Data shape after filtering:\", filtered_data.shape)\n",
    "print(\"Number of unique books (Unified_Id) after filtering:\", filtered_data['Unified_Id'].nunique())\n",
    "print(\"Number of unique users (User_id) after filtering:\", filtered_data['User_id'].nunique())\n",
    "print(\"Min reviews per book: \", filtered_data['Unified_Id'].value_counts().min())\n",
    "print(\"Min reviews per user: \", filtered_data['User_id'].value_counts().min())"
   ]
  },
  {
   "cell_type": "code",
   "execution_count": 48,
   "metadata": {},
   "outputs": [
    {
     "name": "stdout",
     "output_type": "stream",
     "text": [
      "             Id                                              Title  Price  \\\n",
      "649  B000MCKQRS  cruel and unusual (g k hall large print book s...    NaN   \n",
      "651  B000MCKQRS  cruel and unusual (g k hall large print book s...    NaN   \n",
      "653  B000MCKQRS  cruel and unusual (g k hall large print book s...    NaN   \n",
      "660  B000MCKQRS  cruel and unusual (g k hall large print book s...    NaN   \n",
      "662  B000MCKQRS  cruel and unusual (g k hall large print book s...    NaN   \n",
      "\n",
      "            User_id                            profileName review/helpfulness  \\\n",
      "649  A2HFL26OQJ2T9X                                 H. Jin                0/0   \n",
      "651  A2YLBDY64IGTBJ        Ruth Thompson \"Weaver of Tales\"                0/0   \n",
      "653  A39650P2CZUUC9  Bonnie Brody \"Book Lover and Knitter\"                0/0   \n",
      "660     AFVQZQ8PW0L                       Harriet Klausner                2/3   \n",
      "662  A2OI5RQC4FNKKE                               J. Evans                2/3   \n",
      "\n",
      "     review/score  review/time  \\\n",
      "649           3.0   1273795200   \n",
      "651           4.0   1251676800   \n",
      "653           4.0   1235520000   \n",
      "660           5.0   1133740800   \n",
      "662           3.0    973814400   \n",
      "\n",
      "                                        review/summary  \\\n",
      "649  Excellent first half, unfocussed and over-the-...   \n",
      "651                                       Fingerprints   \n",
      "653    One of the Better Books in the Scarpetta Series   \n",
      "660                  solid Scarpetta police procedural   \n",
      "662          Really 3.5 stars...she has written better   \n",
      "\n",
      "                                           review/text  \\\n",
      "649  'Cruel And Unusual' won Patricia Cornwell the ...   \n",
      "651  Cornwell takes hold of your mind and does to l...   \n",
      "653  This book is a great page-turner, perfect for ...   \n",
      "660  Henrico County, Virginia Detective Joe Trent c...   \n",
      "662  Although Ms. Cornwell is not my favorite foren...   \n",
      "\n",
      "                                           description                authors  \\\n",
      "649  Wanneer er in dit achtste deel in de Kay Scarp...  ['Patricia Cornwell']   \n",
      "651  Wanneer er in dit achtste deel in de Kay Scarp...  ['Patricia Cornwell']   \n",
      "653  Wanneer er in dit achtste deel in de Kay Scarp...  ['Patricia Cornwell']   \n",
      "660  Wanneer er in dit achtste deel in de Kay Scarp...  ['Patricia Cornwell']   \n",
      "662  Wanneer er in dit achtste deel in de Kay Scarp...  ['Patricia Cornwell']   \n",
      "\n",
      "                                                 image  \\\n",
      "649  http://books.google.com/books/content?id=AgckD...   \n",
      "651  http://books.google.com/books/content?id=AgckD...   \n",
      "653  http://books.google.com/books/content?id=AgckD...   \n",
      "660  http://books.google.com/books/content?id=AgckD...   \n",
      "662  http://books.google.com/books/content?id=AgckD...   \n",
      "\n",
      "                                           previewLink          publisher  \\\n",
      "649  http://books.google.nl/books?id=AgckDwAAQBAJ&p...  Luitingh Sijthoff   \n",
      "651  http://books.google.nl/books?id=AgckDwAAQBAJ&p...  Luitingh Sijthoff   \n",
      "653  http://books.google.nl/books?id=AgckDwAAQBAJ&p...  Luitingh Sijthoff   \n",
      "660  http://books.google.nl/books?id=AgckDwAAQBAJ&p...  Luitingh Sijthoff   \n",
      "662  http://books.google.nl/books?id=AgckDwAAQBAJ&p...  Luitingh Sijthoff   \n",
      "\n",
      "    publishedDate                                           infoLink  \\\n",
      "649    2017-06-01  https://play.google.com/store/books/details?id...   \n",
      "651    2017-06-01  https://play.google.com/store/books/details?id...   \n",
      "653    2017-06-01  https://play.google.com/store/books/details?id...   \n",
      "660    2017-06-01  https://play.google.com/store/books/details?id...   \n",
      "662    2017-06-01  https://play.google.com/store/books/details?id...   \n",
      "\n",
      "      categories  ratingsCount  Unified_Id  \n",
      "649  ['Fiction']           NaN       38797  \n",
      "651  ['Fiction']           NaN       38797  \n",
      "653  ['Fiction']           NaN       38797  \n",
      "660  ['Fiction']           NaN       38797  \n",
      "662  ['Fiction']           NaN       38797  \n"
     ]
    }
   ],
   "source": [
    "print(filtered_data.head())"
   ]
  },
  {
   "cell_type": "code",
   "execution_count": 49,
   "metadata": {},
   "outputs": [],
   "source": [
    "filtered_data = filtered_data.groupby(['User_id', 'Unified_Id'], as_index=False).agg({\n",
    "    'review/score': 'mean',\n",
    "    'Title': 'first',\n",
    "    'profileName': 'first',\n",
    "    'review/helpfulness': 'first',\n",
    "    'review/summary': 'first',\n",
    "    'review/text': 'first',\n",
    "    'description': 'first',\n",
    "    'authors': 'first',\n",
    "    'publisher': 'first',\n",
    "    'categories': 'first',\n",
    "    'ratingsCount': 'first',\n",
    "    'publishedDate': 'first'\n",
    "})"
   ]
  },
  {
   "cell_type": "code",
   "execution_count": 50,
   "metadata": {},
   "outputs": [
    {
     "name": "stdout",
     "output_type": "stream",
     "text": [
      "(198485, 14)\n"
     ]
    }
   ],
   "source": [
    "print(filtered_data.shape)"
   ]
  },
  {
   "cell_type": "code",
   "execution_count": 52,
   "metadata": {},
   "outputs": [
    {
     "name": "stdout",
     "output_type": "stream",
     "text": [
      "Min reviews per book:  1\n",
      "Min reviews per user:  1\n"
     ]
    }
   ],
   "source": [
    "print(\"Min reviews per book: \", filtered_data['Unified_Id'].value_counts().min())\n",
    "print(\"Min reviews per user: \", filtered_data['User_id'].value_counts().min())"
   ]
  },
  {
   "cell_type": "code",
   "execution_count": 53,
   "metadata": {},
   "outputs": [
    {
     "name": "stdout",
     "output_type": "stream",
     "text": [
      "Data shape after final filtering: (93953, 14)\n",
      "Number of unique books (Unified_Id) after filtering: 1774\n",
      "Number of unique users (User_id) after filtering: 2206\n",
      "Min reviews per book:  20\n",
      "Min reviews per user:  20\n"
     ]
    }
   ],
   "source": [
    "# filtra di nuovo per eliminare i libri con meno di 20 recensioni e gli utenti con meno di 20 recensioni\n",
    "while True:\n",
    "    # Filtra per libri con almeno min_reviews_book recensioni\n",
    "    book_review_counts = filtered_data['Unified_Id'].value_counts()\n",
    "    selected_books = book_review_counts[book_review_counts >= min_reviews_book].index\n",
    "    filtered_data = filtered_data[filtered_data['Unified_Id'].isin(selected_books)]\n",
    "    \n",
    "    # Filtra per utenti con almeno min_reviews_user recensioni\n",
    "    user_review_counts = filtered_data['User_id'].value_counts()\n",
    "    selected_users = user_review_counts[user_review_counts >= min_reviews_user].index\n",
    "    filtered_data = filtered_data[filtered_data['User_id'].isin(selected_users)]\n",
    "    \n",
    "    # Controlla se i criteri sono soddisfatti\n",
    "    if (\n",
    "        filtered_data['Unified_Id'].value_counts().min() >= min_reviews_book and\n",
    "        filtered_data['User_id'].value_counts().min() >= min_reviews_user\n",
    "    ):\n",
    "        break\n",
    "\n",
    "# Controllo finale dei criteri\n",
    "print(\"Data shape after final filtering:\", filtered_data.shape)\n",
    "print(\"Number of unique books (Unified_Id) after filtering:\", filtered_data['Unified_Id'].nunique())\n",
    "print(\"Number of unique users (User_id) after filtering:\", filtered_data['User_id'].nunique())\n",
    "print(\"Min reviews per book: \", filtered_data['Unified_Id'].value_counts().min())\n",
    "print(\"Min reviews per user: \", filtered_data['User_id'].value_counts().min())"
   ]
  },
  {
   "cell_type": "code",
   "execution_count": 54,
   "metadata": {},
   "outputs": [
    {
     "name": "stdout",
     "output_type": "stream",
     "text": [
      "[7120 7121 9332]\n"
     ]
    }
   ],
   "source": [
    "# stampa 3 id univoci\n",
    "print(filtered_data['Unified_Id'].unique()[:3])"
   ]
  },
  {
   "cell_type": "code",
   "execution_count": 55,
   "metadata": {},
   "outputs": [],
   "source": [
    "# estrai i campioni relativi ai primi 3 id univoci\n",
    "excluded_books = [int(id) for id in ['7120', '7121', '9332']]\n",
    "\n",
    "# Filtra per creare i dataset di training e test\n",
    "train_data = filtered_data[~filtered_data['Unified_Id'].isin(excluded_books)]\n",
    "test_data = filtered_data[filtered_data['Unified_Id'].isin(excluded_books)]"
   ]
  },
  {
   "cell_type": "code",
   "execution_count": 56,
   "metadata": {},
   "outputs": [
    {
     "name": "stdout",
     "output_type": "stream",
     "text": [
      "Train data shape: (93879, 14)\n",
      "Test data shape: (74, 14)\n"
     ]
    }
   ],
   "source": [
    "# shape dei dataset\n",
    "print(\"Train data shape:\", train_data.shape)\n",
    "print(\"Test data shape:\", test_data.shape)"
   ]
  },
  {
   "cell_type": "code",
   "execution_count": 57,
   "metadata": {},
   "outputs": [
    {
     "name": "stdout",
     "output_type": "stream",
     "text": [
      "Unified_Id\n",
      "7120    25\n",
      "7121    25\n",
      "9332    24\n",
      "Name: count, dtype: int64\n",
      "48\n"
     ]
    }
   ],
   "source": [
    "# numero di recensioni per libro nel dataset di test\n",
    "print(test_data['Unified_Id'].value_counts())\n",
    "\n",
    "# numero di utenti diversi che hanno recensito i libri nel dataset di test\n",
    "print(test_data['User_id'].nunique())"
   ]
  },
  {
   "cell_type": "code",
   "execution_count": 58,
   "metadata": {},
   "outputs": [
    {
     "name": "stdout",
     "output_type": "stream",
     "text": [
      "               User_id  Unified_Id  review/score                       Title  \\\n",
      "150      A106016KSI0YQ        7120           4.0           a town like alice   \n",
      "151      A106016KSI0YQ        7121           4.0  a town like alice (import)   \n",
      "153      A106016KSI0YQ        9332           5.0                    affinity   \n",
      "3894    A137B77BFBHZBU        7120           5.0           a town like alice   \n",
      "3895    A137B77BFBHZBU        7121           5.0  a town like alice (import)   \n",
      "...                ...         ...           ...                         ...   \n",
      "187478   AS6SH2JM2YY3H        7121           5.0  a town like alice (import)   \n",
      "188119   ASPABROV8R7M5        9332           4.0                    affinity   \n",
      "190505   AU6DIIDZK2OQM        7120           4.0           a town like alice   \n",
      "190506   AU6DIIDZK2OQM        7121           4.0  a town like alice (import)   \n",
      "194855   AX54G5AL870Q8        9332           5.0                    affinity   \n",
      "\n",
      "                    profileName review/helpfulness  \\\n",
      "150                 Jay Dickson                0/1   \n",
      "151                 Jay Dickson                0/1   \n",
      "153                 Jay Dickson                1/1   \n",
      "3894                  D. Spidet              10/10   \n",
      "3895                  D. Spidet              10/10   \n",
      "...                         ...                ...   \n",
      "187478                R Schmidt                1/1   \n",
      "188119            Barb Mechalke                0/0   \n",
      "190505               A. Luciano                2/2   \n",
      "190506               A. Luciano                2/2   \n",
      "194855  Ratmammy \"The Ratmammy\"              16/17   \n",
      "\n",
      "                                           review/summary  \\\n",
      "150                                  Cold Comfort Cowtown   \n",
      "151                                  Cold Comfort Cowtown   \n",
      "153                A pageturner that wins your confidence   \n",
      "3894                                           Great book   \n",
      "3895                                           Great book   \n",
      "...                                                   ...   \n",
      "187478  An extraordinary tale, even though it reflects...   \n",
      "188119  3.5 But I'm Rounding Up, A Dark and Sadly Movi...   \n",
      "190505                                   Sweet Love Story   \n",
      "190506                                   Sweet Love Story   \n",
      "194855              Another great novel from Sarah Waters   \n",
      "\n",
      "                                              review/text  \\\n",
      "150     It says something about Nevil Shute's 1950 nov...   \n",
      "151     It says something about Nevil Shute's 1950 nov...   \n",
      "153     \"Confidence\" is the operative watchword of Sar...   \n",
      "3894    This feels almost like two different books, su...   \n",
      "3895    This feels almost like two different books, su...   \n",
      "...                                                   ...   \n",
      "187478  I first got acquainted with this story about a...   \n",
      "188119  I recently read Fingersmith by Sarah Waters an...   \n",
      "190505  During WWII, Jean, a young Englishwoman, is ca...   \n",
      "190506  During WWII, Jean, a young Englishwoman, is ca...   \n",
      "194855  AFFINITY by Sarah WatersAfter reading Sarah Wa...   \n",
      "\n",
      "                                              description           authors  \\\n",
      "150     \"A tale of love and war, follows its enterpris...   ['Nevil Shute']   \n",
      "151                                                  None              None   \n",
      "153     'Affinity is the work of an intense and atmosp...  ['Sarah Waters']   \n",
      "3894    \"A tale of love and war, follows its enterpris...   ['Nevil Shute']   \n",
      "3895                                                 None              None   \n",
      "...                                                   ...               ...   \n",
      "187478                                               None              None   \n",
      "188119  'Affinity is the work of an intense and atmosp...  ['Sarah Waters']   \n",
      "190505  \"A tale of love and war, follows its enterpris...   ['Nevil Shute']   \n",
      "190506                                               None              None   \n",
      "194855  'Affinity is the work of an intense and atmosp...  ['Sarah Waters']   \n",
      "\n",
      "          publisher   categories  ratingsCount publishedDate  \n",
      "150         Vintage  ['Fiction']          58.0          2010  \n",
      "151            None         None           NaN          None  \n",
      "153     Hachette UK  ['Fiction']          68.0    2011-02-03  \n",
      "3894        Vintage  ['Fiction']          58.0          2010  \n",
      "3895           None         None           NaN          None  \n",
      "...             ...          ...           ...           ...  \n",
      "187478         None         None           NaN          None  \n",
      "188119  Hachette UK  ['Fiction']          68.0    2011-02-03  \n",
      "190505      Vintage  ['Fiction']          58.0          2010  \n",
      "190506         None         None           NaN          None  \n",
      "194855  Hachette UK  ['Fiction']          68.0    2011-02-03  \n",
      "\n",
      "[74 rows x 14 columns]\n"
     ]
    }
   ],
   "source": [
    "# stampa tutti i record del dataset di test\n",
    "print(test_data)"
   ]
  },
  {
   "cell_type": "code",
   "execution_count": 59,
   "metadata": {},
   "outputs": [],
   "source": [
    "# trasforma la data in anno\n",
    "filtered_data['publishedYear'] = filtered_data['publishedDate'].astype(str).str[:4]\n",
    "filtered_data['publishedYear'] = pd.to_numeric(filtered_data['publishedYear'], errors='coerce').astype('Int64')\n",
    "filtered_data.drop(columns=['publishedDate'], inplace=True)"
   ]
  },
  {
   "cell_type": "code",
   "execution_count": 70,
   "metadata": {},
   "outputs": [
    {
     "name": "stdout",
     "output_type": "stream",
     "text": [
      "Colonne presenti in filtered_data: Index(['User_id', 'Unified_Id', 'review/score', 'Title', 'profileName',\n",
      "       'review/helpfulness', 'review/summary', 'review/text', 'description',\n",
      "       'authors', 'publisher', 'categories', 'ratingsCount', 'publishedYear'],\n",
      "      dtype='object')\n",
      "Valori NaN in 'Unified_Id': 0\n"
     ]
    }
   ],
   "source": [
    "print(\"Colonne presenti in filtered_data:\", filtered_data.columns)\n",
    "print(\"Valori NaN in 'Unified_Id':\", filtered_data['Unified_Id'].isna().sum())\n"
   ]
  },
  {
   "cell_type": "code",
   "execution_count": 75,
   "metadata": {},
   "outputs": [
    {
     "name": "stdout",
     "output_type": "stream",
     "text": [
      "Numero di libri: 1774\n"
     ]
    }
   ],
   "source": [
    "books_table = filtered_data[['Unified_Id', 'Title', 'authors', 'description', 'publisher', 'categories', 'publishedYear']].drop_duplicates(subset='Unified_Id')\n",
    "\n",
    "books_table['Unified_Id_col'] = books_table['Unified_Id']  # Aggiungi una copia come colonna\n",
    "books_table = books_table.set_index('Unified_Id_col')\n",
    "\n",
    "# Conta il numero di libri nel dataset e verifica l'unicità di Unified_Id\n",
    "n_books = books_table.shape[0]\n",
    "print(\"Numero di libri:\", n_books)"
   ]
  },
  {
   "cell_type": "code",
   "execution_count": 76,
   "metadata": {},
   "outputs": [
    {
     "name": "stdout",
     "output_type": "stream",
     "text": [
      "Index(['Unified_Id', 'Title', 'authors', 'description', 'publisher',\n",
      "       'categories', 'publishedYear'],\n",
      "      dtype='object')\n"
     ]
    }
   ],
   "source": [
    "print(books_table.columns)"
   ]
  },
  {
   "cell_type": "code",
   "execution_count": 77,
   "metadata": {},
   "outputs": [
    {
     "name": "stdout",
     "output_type": "stream",
     "text": [
      "                Unified_Id                                  Title  \\\n",
      "Unified_Id_col                                                      \n",
      "7120                  7120                      a town like alice   \n",
      "7121                  7121             a town like alice (import)   \n",
      "9332                  9332                               affinity   \n",
      "14989                14989                 appointment in samarra   \n",
      "14990                14990  appointment in samarra (signet books)   \n",
      "\n",
      "                         authors  \\\n",
      "Unified_Id_col                     \n",
      "7120             ['Nevil Shute']   \n",
      "7121                        None   \n",
      "9332            ['Sarah Waters']   \n",
      "14989            [\"John O'Hara\"]   \n",
      "14990            [\"John O'Hara\"]   \n",
      "\n",
      "                                                      description  \\\n",
      "Unified_Id_col                                                      \n",
      "7120            \"A tale of love and war, follows its enterpris...   \n",
      "7121                                                         None   \n",
      "9332            'Affinity is the work of an intense and atmosp...   \n",
      "14989           The best-loved book by the writer whom Fran Le...   \n",
      "14990                                                        None   \n",
      "\n",
      "                  publisher            categories  publishedYear  Price  \n",
      "Unified_Id_col                                                           \n",
      "7120                Vintage           ['Fiction']           2010     10  \n",
      "7121                   None                  None           <NA>     23  \n",
      "9332            Hachette UK           ['Fiction']           2011     18  \n",
      "14989               Penguin           ['Fiction']           2013     14  \n",
      "14990                  None  ['Domestic fiction']           1945     11  \n"
     ]
    }
   ],
   "source": [
    "np.random.seed(42)  # Imposta il seed per risultati riproducibili, se desiderato\n",
    "books_table['Price'] = np.random.randint(4, 26, size=books_table.shape[0])\n",
    "\n",
    "print(books_table.head())"
   ]
  },
  {
   "cell_type": "code",
   "execution_count": 78,
   "metadata": {},
   "outputs": [
    {
     "name": "stdout",
     "output_type": "stream",
     "text": [
      "Unified_Id         0\n",
      "Title              0\n",
      "authors          200\n",
      "description      366\n",
      "publisher        425\n",
      "categories       324\n",
      "publishedYear    172\n",
      "Price              0\n",
      "dtype: int64\n"
     ]
    }
   ],
   "source": [
    "# NaN\n",
    "print(books_table.isnull().sum())"
   ]
  },
  {
   "cell_type": "code",
   "execution_count": 79,
   "metadata": {},
   "outputs": [],
   "source": [
    "assert books_table['Unified_Id'].is_unique, \"Esistono ID duplicati nella tabella dei libri!\""
   ]
  },
  {
   "cell_type": "code",
   "execution_count": 81,
   "metadata": {},
   "outputs": [],
   "source": [
    "# Salva la tabella dei libri in un file CSV\n",
    "books_table.to_csv('data_preprocessed/books_table.csv')"
   ]
  },
  {
   "cell_type": "code",
   "execution_count": 82,
   "metadata": {},
   "outputs": [
    {
     "name": "stdout",
     "output_type": "stream",
     "text": [
      "                     User_id  Unified_Id  review/score  \\\n",
      "review_id_col                                            \n",
      "1              A106016KSI0YQ        7120           4.0   \n",
      "2              A106016KSI0YQ        7121           4.0   \n",
      "3              A106016KSI0YQ        9332           5.0   \n",
      "4              A106016KSI0YQ       14989           4.0   \n",
      "5              A106016KSI0YQ       14990           4.0   \n",
      "\n",
      "                                       review/summary  \\\n",
      "review_id_col                                           \n",
      "1                                Cold Comfort Cowtown   \n",
      "2                                Cold Comfort Cowtown   \n",
      "3              A pageturner that wins your confidence   \n",
      "4                           Fear in a handful of dust   \n",
      "5                           Fear in a handful of dust   \n",
      "\n",
      "                                                     review/text  review_id  \n",
      "review_id_col                                                                \n",
      "1              It says something about Nevil Shute's 1950 nov...          1  \n",
      "2              It says something about Nevil Shute's 1950 nov...          2  \n",
      "3              \"Confidence\" is the operative watchword of Sar...          3  \n",
      "4              John O'Hara's first novel detailing the lives ...          4  \n",
      "5              John O'Hara's first novel detailing the lives ...          5  \n"
     ]
    },
    {
     "name": "stderr",
     "output_type": "stream",
     "text": [
      "C:\\Users\\Tommaso\\AppData\\Local\\Temp\\ipykernel_41660\\3763055024.py:3: SettingWithCopyWarning: \n",
      "A value is trying to be set on a copy of a slice from a DataFrame.\n",
      "Try using .loc[row_indexer,col_indexer] = value instead\n",
      "\n",
      "See the caveats in the documentation: https://pandas.pydata.org/pandas-docs/stable/user_guide/indexing.html#returning-a-view-versus-a-copy\n",
      "  reviews_table['review_id'] = range(1, len(reviews_table) + 1)\n",
      "C:\\Users\\Tommaso\\AppData\\Local\\Temp\\ipykernel_41660\\3763055024.py:4: SettingWithCopyWarning: \n",
      "A value is trying to be set on a copy of a slice from a DataFrame.\n",
      "Try using .loc[row_indexer,col_indexer] = value instead\n",
      "\n",
      "See the caveats in the documentation: https://pandas.pydata.org/pandas-docs/stable/user_guide/indexing.html#returning-a-view-versus-a-copy\n",
      "  reviews_table['review_id_col'] = reviews_table['review_id']\n"
     ]
    }
   ],
   "source": [
    "# estrazione dei campi per la tabella delle recensioni\n",
    "reviews_table = filtered_data[['User_id', 'Unified_Id', 'review/score', 'review/summary', 'review/text']]\n",
    "reviews_table['review_id'] = range(1, len(reviews_table) + 1)\n",
    "reviews_table['review_id_col'] = reviews_table['review_id']  \n",
    "\n",
    "reviews_table = reviews_table.set_index('review_id_col')\n",
    "\n",
    "print(reviews_table.head())"
   ]
  },
  {
   "cell_type": "code",
   "execution_count": 85,
   "metadata": {},
   "outputs": [
    {
     "name": "stdout",
     "output_type": "stream",
     "text": [
      "(93953, 6)\n"
     ]
    }
   ],
   "source": [
    "print(reviews_table.shape)"
   ]
  },
  {
   "cell_type": "code",
   "execution_count": 83,
   "metadata": {},
   "outputs": [
    {
     "name": "stdout",
     "output_type": "stream",
     "text": [
      "Combinazioni duplicate di User_id e Unified_Id:\n",
      "Empty DataFrame\n",
      "Columns: [User_id, Unified_Id, count]\n",
      "Index: []\n"
     ]
    }
   ],
   "source": [
    "# verifico i duplicati\n",
    "duplicate_check = reviews_table.groupby(['User_id', 'Unified_Id']).size().reset_index(name='count')\n",
    "duplicates = duplicate_check[duplicate_check['count'] > 1]\n",
    "\n",
    "# Visualizza i duplicati\n",
    "print(\"Combinazioni duplicate di User_id e Unified_Id:\")\n",
    "print(duplicates)"
   ]
  },
  {
   "cell_type": "code",
   "execution_count": 84,
   "metadata": {},
   "outputs": [
    {
     "name": "stdout",
     "output_type": "stream",
     "text": [
      "User_id           0\n",
      "Unified_Id        0\n",
      "review/score      0\n",
      "review/summary    0\n",
      "review/text       0\n",
      "review_id         0\n",
      "dtype: int64\n"
     ]
    }
   ],
   "source": [
    "#Nan \n",
    "print(reviews_table.isnull().sum())"
   ]
  },
  {
   "cell_type": "code",
   "execution_count": 87,
   "metadata": {},
   "outputs": [],
   "source": [
    "# trasformo review/score in intero\n",
    "reviews_table['review/score'] = reviews_table['review/score'].astype(int)"
   ]
  },
  {
   "cell_type": "code",
   "execution_count": 88,
   "metadata": {},
   "outputs": [],
   "source": [
    "# Salva la tabella delle recensioni in un file CSV\n",
    "reviews_table.to_csv('data_preprocessed/reviews_table.csv')"
   ]
  }
 ],
 "metadata": {
  "kernelspec": {
   "display_name": "knowledge-graph",
   "language": "python",
   "name": "python3"
  },
  "language_info": {
   "codemirror_mode": {
    "name": "ipython",
    "version": 3
   },
   "file_extension": ".py",
   "mimetype": "text/x-python",
   "name": "python",
   "nbconvert_exporter": "python",
   "pygments_lexer": "ipython3",
   "version": "3.11.9"
  }
 },
 "nbformat": 4,
 "nbformat_minor": 2
}
